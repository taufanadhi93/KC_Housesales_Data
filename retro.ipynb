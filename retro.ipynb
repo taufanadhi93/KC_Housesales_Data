{
 "metadata": {
  "language_info": {
   "codemirror_mode": {
    "name": "ipython",
    "version": 3
   },
   "file_extension": ".py",
   "mimetype": "text/x-python",
   "name": "python",
   "nbconvert_exporter": "python",
   "pygments_lexer": "ipython3",
   "version": "3.8.7"
  },
  "orig_nbformat": 2,
  "kernelspec": {
   "name": "python387jvsc74a57bd0aee8b7b246df8f9039afb4144a1f6fd8d2ca17a180786b69acc140d282b71a49",
   "display_name": "Python 3.8.7 64-bit"
  },
  "metadata": {
   "interpreter": {
    "hash": "aee8b7b246df8f9039afb4144a1f6fd8d2ca17a180786b69acc140d282b71a49"
   }
  }
 },
 "nbformat": 4,
 "nbformat_minor": 2,
 "cells": [
  {
   "cell_type": "code",
   "execution_count": 19,
   "metadata": {},
   "outputs": [],
   "source": [
    "import mysql.connector\n",
    "import pandas as pd\n",
    "\n",
    "mydb = mysql.connector.connect(\n",
    "    host = 'localhost',\n",
    "    user = 'root',\n",
    "    passwd = '@Ravenclaw93',\n",
    "    database = 'retrowheels'\n",
    ")\n"
   ]
  },
  {
   "cell_type": "code",
   "execution_count": 20,
   "metadata": {},
   "outputs": [
    {
     "output_type": "execute_result",
     "data": {
      "text/plain": [
       "            city  employeeNumber\n",
       "0  San Francisco               6\n",
       "1          Paris               5\n",
       "2         Sydney               4\n",
       "3         Boston               2\n",
       "4            NYC               2\n",
       "5          Tokyo               2\n",
       "6         London               2"
      ],
      "text/html": "<div>\n<style scoped>\n    .dataframe tbody tr th:only-of-type {\n        vertical-align: middle;\n    }\n\n    .dataframe tbody tr th {\n        vertical-align: top;\n    }\n\n    .dataframe thead th {\n        text-align: right;\n    }\n</style>\n<table border=\"1\" class=\"dataframe\">\n  <thead>\n    <tr style=\"text-align: right;\">\n      <th></th>\n      <th>city</th>\n      <th>employeeNumber</th>\n    </tr>\n  </thead>\n  <tbody>\n    <tr>\n      <th>0</th>\n      <td>San Francisco</td>\n      <td>6</td>\n    </tr>\n    <tr>\n      <th>1</th>\n      <td>Paris</td>\n      <td>5</td>\n    </tr>\n    <tr>\n      <th>2</th>\n      <td>Sydney</td>\n      <td>4</td>\n    </tr>\n    <tr>\n      <th>3</th>\n      <td>Boston</td>\n      <td>2</td>\n    </tr>\n    <tr>\n      <th>4</th>\n      <td>NYC</td>\n      <td>2</td>\n    </tr>\n    <tr>\n      <th>5</th>\n      <td>Tokyo</td>\n      <td>2</td>\n    </tr>\n    <tr>\n      <th>6</th>\n      <td>London</td>\n      <td>2</td>\n    </tr>\n  </tbody>\n</table>\n</div>"
     },
     "metadata": {},
     "execution_count": 20
    }
   ],
   "source": [
    "mycursor = mydb.cursor()\n",
    "query = (\n",
    "    'Select city, count(city) as employeeNumber From employees e Join offices o On e.officeCode = o.officeCode Group By e.officeCode Order By employeeNumber desc;'\n",
    "    )\n",
    "mycursor.execute(query)\n",
    "result = mycursor.fetchall()\n",
    "ans1 = pd.DataFrame(result, columns=mycursor.column_names)\n",
    "ans1"
   ]
  },
  {
   "cell_type": "code",
   "execution_count": 26,
   "metadata": {},
   "outputs": [
    {
     "output_type": "execute_result",
     "data": {
      "text/plain": [
       "   ProductNumberLine  ProductNumber\n",
       "0                  7            110"
      ],
      "text/html": "<div>\n<style scoped>\n    .dataframe tbody tr th:only-of-type {\n        vertical-align: middle;\n    }\n\n    .dataframe tbody tr th {\n        vertical-align: top;\n    }\n\n    .dataframe thead th {\n        text-align: right;\n    }\n</style>\n<table border=\"1\" class=\"dataframe\">\n  <thead>\n    <tr style=\"text-align: right;\">\n      <th></th>\n      <th>ProductNumberLine</th>\n      <th>ProductNumber</th>\n    </tr>\n  </thead>\n  <tbody>\n    <tr>\n      <th>0</th>\n      <td>7</td>\n      <td>110</td>\n    </tr>\n  </tbody>\n</table>\n</div>"
     },
     "metadata": {},
     "execution_count": 26
    }
   ],
   "source": [
    "mycursor = mydb.cursor()\n",
    "query = (\n",
    "        'Select count(distinct(productLine)) as ProductNumberLine, count(productName) as ProductNumber From products;'    \n",
    "        )\n",
    "mycursor.execute(query)\n",
    "result = mycursor.fetchall()\n",
    "ans2 = pd.DataFrame(result, columns=mycursor.column_names)\n",
    "ans2"
   ]
  },
  {
   "cell_type": "code",
   "execution_count": 31,
   "metadata": {},
   "outputs": [
    {
     "output_type": "execute_result",
     "data": {
      "text/plain": [
       "  productCode                              productName   productLine  \\\n",
       "0    S18_3232              1992 Ferrari 360 Spider red  Classic Cars   \n",
       "1    S18_1342                     1937 Lincoln Berline  Vintage Cars   \n",
       "2   S700_4002                American Airlines: MD-11S        Planes   \n",
       "3    S18_3856  1941 Chevrolet Special Deluxe Cabriolet  Vintage Cars   \n",
       "4    S50_1341             1930 Buick Marquette Phaeton  Vintage Cars   \n",
       "\n",
       "  quantityOrdered  \n",
       "0            1808  \n",
       "1            1111  \n",
       "2            1085  \n",
       "3            1076  \n",
       "4            1074  "
      ],
      "text/html": "<div>\n<style scoped>\n    .dataframe tbody tr th:only-of-type {\n        vertical-align: middle;\n    }\n\n    .dataframe tbody tr th {\n        vertical-align: top;\n    }\n\n    .dataframe thead th {\n        text-align: right;\n    }\n</style>\n<table border=\"1\" class=\"dataframe\">\n  <thead>\n    <tr style=\"text-align: right;\">\n      <th></th>\n      <th>productCode</th>\n      <th>productName</th>\n      <th>productLine</th>\n      <th>quantityOrdered</th>\n    </tr>\n  </thead>\n  <tbody>\n    <tr>\n      <th>0</th>\n      <td>S18_3232</td>\n      <td>1992 Ferrari 360 Spider red</td>\n      <td>Classic Cars</td>\n      <td>1808</td>\n    </tr>\n    <tr>\n      <th>1</th>\n      <td>S18_1342</td>\n      <td>1937 Lincoln Berline</td>\n      <td>Vintage Cars</td>\n      <td>1111</td>\n    </tr>\n    <tr>\n      <th>2</th>\n      <td>S700_4002</td>\n      <td>American Airlines: MD-11S</td>\n      <td>Planes</td>\n      <td>1085</td>\n    </tr>\n    <tr>\n      <th>3</th>\n      <td>S18_3856</td>\n      <td>1941 Chevrolet Special Deluxe Cabriolet</td>\n      <td>Vintage Cars</td>\n      <td>1076</td>\n    </tr>\n    <tr>\n      <th>4</th>\n      <td>S50_1341</td>\n      <td>1930 Buick Marquette Phaeton</td>\n      <td>Vintage Cars</td>\n      <td>1074</td>\n    </tr>\n  </tbody>\n</table>\n</div>"
     },
     "metadata": {},
     "execution_count": 31
    }
   ],
   "source": [
    "mycursor = mydb.cursor()\n",
    "query = (\n",
    "    'Select min(p.productCode) as productCode, productName, min(productLine) as productLine, sum(quantityOrdered) as quantityOrdered From products p Join orderDetails od On p.productCode=od.productCode group by productName order by quantityOrdered desc Limit 5;'    )\n",
    "mycursor.execute(query)\n",
    "result = mycursor.fetchall()\n",
    "ans3 = pd.DataFrame(result, columns=mycursor.column_names)\n",
    "ans3"
   ]
  },
  {
   "cell_type": "code",
   "execution_count": 45,
   "metadata": {},
   "outputs": [
    {
     "output_type": "error",
     "ename": "InterfaceError",
     "evalue": "No result set to fetch from",
     "traceback": [
      "\u001b[0;31m---------------------------------------------------------------------------\u001b[0m",
      "\u001b[0;31mInterfaceError\u001b[0m                            Traceback (most recent call last)",
      "\u001b[0;32m<ipython-input-45-d74c411c5a53>\u001b[0m in \u001b[0;36m<module>\u001b[0;34m\u001b[0m\n\u001b[1;32m      2\u001b[0m \u001b[0mquery\u001b[0m \u001b[0;34m=\u001b[0m \u001b[0;34m(\u001b[0m\u001b[0;34m)\u001b[0m\u001b[0;34m\u001b[0m\u001b[0;34m\u001b[0m\u001b[0m\n\u001b[1;32m      3\u001b[0m \u001b[0mmycursor\u001b[0m\u001b[0;34m.\u001b[0m\u001b[0mexecute\u001b[0m\u001b[0;34m(\u001b[0m\u001b[0mquery\u001b[0m\u001b[0;34m)\u001b[0m\u001b[0;34m\u001b[0m\u001b[0;34m\u001b[0m\u001b[0m\n\u001b[0;32m----> 4\u001b[0;31m \u001b[0mresult\u001b[0m \u001b[0;34m=\u001b[0m \u001b[0mmycursor\u001b[0m\u001b[0;34m.\u001b[0m\u001b[0mfetchall\u001b[0m\u001b[0;34m(\u001b[0m\u001b[0;34m)\u001b[0m\u001b[0;34m\u001b[0m\u001b[0;34m\u001b[0m\u001b[0m\n\u001b[0m\u001b[1;32m      5\u001b[0m \u001b[0mans4\u001b[0m \u001b[0;34m=\u001b[0m \u001b[0mpd\u001b[0m\u001b[0;34m.\u001b[0m\u001b[0mDataFrame\u001b[0m\u001b[0;34m(\u001b[0m\u001b[0mresult\u001b[0m\u001b[0;34m,\u001b[0m \u001b[0mcolumns\u001b[0m\u001b[0;34m=\u001b[0m\u001b[0mmycursor\u001b[0m\u001b[0;34m.\u001b[0m\u001b[0mcolumn_names\u001b[0m\u001b[0;34m)\u001b[0m\u001b[0;34m\u001b[0m\u001b[0;34m\u001b[0m\u001b[0m\n\u001b[1;32m      6\u001b[0m \u001b[0mans4\u001b[0m\u001b[0;34m\u001b[0m\u001b[0;34m\u001b[0m\u001b[0m\n",
      "\u001b[0;32m/Library/Frameworks/Python.framework/Versions/3.8/lib/python3.8/site-packages/mysql/connector/cursor.py\u001b[0m in \u001b[0;36mfetchall\u001b[0;34m(self)\u001b[0m\n\u001b[1;32m    912\u001b[0m \u001b[0;34m\u001b[0m\u001b[0m\n\u001b[1;32m    913\u001b[0m     \u001b[0;32mdef\u001b[0m \u001b[0mfetchall\u001b[0m\u001b[0;34m(\u001b[0m\u001b[0mself\u001b[0m\u001b[0;34m)\u001b[0m\u001b[0;34m:\u001b[0m\u001b[0;34m\u001b[0m\u001b[0;34m\u001b[0m\u001b[0m\n\u001b[0;32m--> 914\u001b[0;31m         \u001b[0mself\u001b[0m\u001b[0;34m.\u001b[0m\u001b[0m_check_executed\u001b[0m\u001b[0;34m(\u001b[0m\u001b[0;34m)\u001b[0m\u001b[0;34m\u001b[0m\u001b[0;34m\u001b[0m\u001b[0m\n\u001b[0m\u001b[1;32m    915\u001b[0m         \u001b[0;32mif\u001b[0m \u001b[0;32mnot\u001b[0m \u001b[0mself\u001b[0m\u001b[0;34m.\u001b[0m\u001b[0m_have_unread_result\u001b[0m\u001b[0;34m(\u001b[0m\u001b[0;34m)\u001b[0m\u001b[0;34m:\u001b[0m\u001b[0;34m\u001b[0m\u001b[0;34m\u001b[0m\u001b[0m\n\u001b[1;32m    916\u001b[0m             \u001b[0;32mreturn\u001b[0m \u001b[0;34m[\u001b[0m\u001b[0;34m]\u001b[0m\u001b[0;34m\u001b[0m\u001b[0;34m\u001b[0m\u001b[0m\n",
      "\u001b[0;32m/Library/Frameworks/Python.framework/Versions/3.8/lib/python3.8/site-packages/mysql/connector/cursor.py\u001b[0m in \u001b[0;36m_check_executed\u001b[0;34m(self)\u001b[0m\n\u001b[1;32m    374\u001b[0m         \"\"\"\n\u001b[1;32m    375\u001b[0m         \u001b[0;32mif\u001b[0m \u001b[0mself\u001b[0m\u001b[0;34m.\u001b[0m\u001b[0m_executed\u001b[0m \u001b[0;32mis\u001b[0m \u001b[0;32mNone\u001b[0m\u001b[0;34m:\u001b[0m\u001b[0;34m\u001b[0m\u001b[0;34m\u001b[0m\u001b[0m\n\u001b[0;32m--> 376\u001b[0;31m             \u001b[0;32mraise\u001b[0m \u001b[0merrors\u001b[0m\u001b[0;34m.\u001b[0m\u001b[0mInterfaceError\u001b[0m\u001b[0;34m(\u001b[0m\u001b[0mERR_NO_RESULT_TO_FETCH\u001b[0m\u001b[0;34m)\u001b[0m\u001b[0;34m\u001b[0m\u001b[0;34m\u001b[0m\u001b[0m\n\u001b[0m\u001b[1;32m    377\u001b[0m \u001b[0;34m\u001b[0m\u001b[0m\n\u001b[1;32m    378\u001b[0m     \u001b[0;32mdef\u001b[0m \u001b[0mnext\u001b[0m\u001b[0;34m(\u001b[0m\u001b[0mself\u001b[0m\u001b[0;34m)\u001b[0m\u001b[0;34m:\u001b[0m\u001b[0;34m\u001b[0m\u001b[0;34m\u001b[0m\u001b[0m\n",
      "\u001b[0;31mInterfaceError\u001b[0m: No result set to fetch from"
     ]
    }
   ],
   "source": [
    "mycursor = mydb.cursor()\n",
    "query = ()\n",
    "mycursor.execute(query)\n",
    "result = mycursor.fetchall()\n",
    "ans4 = pd.DataFrame(result, columns=mycursor.column_names)\n",
    "ans4"
   ]
  },
  {
   "cell_type": "code",
   "execution_count": 43,
   "metadata": {},
   "outputs": [
    {
     "output_type": "execute_result",
     "data": {
      "text/plain": [
       "  Tables_in_retrowheels\n",
       "0             customers\n",
       "1             employees\n",
       "2               offices\n",
       "3          orderdetails\n",
       "4                orders\n",
       "5              payments\n",
       "6          productlines\n",
       "7              products"
      ],
      "text/html": "<div>\n<style scoped>\n    .dataframe tbody tr th:only-of-type {\n        vertical-align: middle;\n    }\n\n    .dataframe tbody tr th {\n        vertical-align: top;\n    }\n\n    .dataframe thead th {\n        text-align: right;\n    }\n</style>\n<table border=\"1\" class=\"dataframe\">\n  <thead>\n    <tr style=\"text-align: right;\">\n      <th></th>\n      <th>Tables_in_retrowheels</th>\n    </tr>\n  </thead>\n  <tbody>\n    <tr>\n      <th>0</th>\n      <td>customers</td>\n    </tr>\n    <tr>\n      <th>1</th>\n      <td>employees</td>\n    </tr>\n    <tr>\n      <th>2</th>\n      <td>offices</td>\n    </tr>\n    <tr>\n      <th>3</th>\n      <td>orderdetails</td>\n    </tr>\n    <tr>\n      <th>4</th>\n      <td>orders</td>\n    </tr>\n    <tr>\n      <th>5</th>\n      <td>payments</td>\n    </tr>\n    <tr>\n      <th>6</th>\n      <td>productlines</td>\n    </tr>\n    <tr>\n      <th>7</th>\n      <td>products</td>\n    </tr>\n  </tbody>\n</table>\n</div>"
     },
     "metadata": {},
     "execution_count": 43
    }
   ],
   "source": [
    "mycursor = mydb.cursor()\n",
    "query =  ()\n",
    "mycursor.execute(query)\n",
    "result = mycursor.fetchall()\n",
    "ans5 = pd.DataFrame(result, columns=mycursor.column_names)\n",
    "ans5"
   ]
  },
  {
   "cell_type": "code",
   "execution_count": null,
   "metadata": {},
   "outputs": [],
   "source": []
  }
 ]
}